{
 "cells": [
  {
   "cell_type": "markdown",
   "metadata": {},
   "source": [
    "# Project Description\n",
    "\n",
    "This project is a game that teaches people the different UCSD bus routes in an entertaining way. I created this project as a way of teaching new bus drivers the routes in a fun way that will make it easy to remember. Each step of each route mimics the actual route and where it goes in real life. If I had more time I would create all of the routes, but for now the routes I have chosen for my project are South Campus, North Campus, and Hillcrest. I'm creating this project because even though new recruits have route training before they are allowed to drive solo, it is easy for them to forget the route after driving it only once. This game serves to be a fun reminder of the way the route goes for UCSD shuttle drivers.\n",
    "\n",
    "I tried my best to make the game as user friendly as possible with different color fonts and specific instructions. I also tried to code for any conceivable issues that could occur due to spelling or spacing of the user's answers.\n",
    "\n",
    "The way the code works is I have functions that return the next step of the route so that the different possible paths that the driver can take are all mapped out. The reason for this approach was because each step of the game is unique and requires its own unique function so that each route goes in order according to the way it goes in real life. For some routes, there is more than one way to go which is included in this game. Even some of the wrong ways in this game give the user some insight about the route itself and what to avoid.\n",
    "\n",
    "## Work Cited\n",
    "\n",
    "This is where I found the code to change the font colors of the text:\n",
    "\n",
    "http://www.lihaoyi.com/post/BuildyourownCommandLinewithANSIescapecodes.html#256-colors\n",
    "\n",
    "This is where I found the basic adventure game style which I then modified for my project:\n",
    "\n",
    "https://www.youtube.com/watch?v=DEcFCn2ubSg\n",
    "\n",
    "This is where I got the format for my project:\n",
    "\n",
    "https://github.com/chrishan0106/cogs18_final"
   ]
  },
  {
   "cell_type": "markdown",
   "metadata": {},
   "source": [
    "# Project Code\n",
    "\n",
    "Just run the code to get started. Enjoy! :)"
   ]
  },
  {
   "cell_type": "code",
   "execution_count": null,
   "metadata": {},
   "outputs": [],
   "source": [
    "from project_module.project_functions import *\n",
    "from project_module.project_test_functions import *"
   ]
  },
  {
   "cell_type": "code",
   "execution_count": null,
   "metadata": {},
   "outputs": [],
   "source": [
    "# The main function that acts as a main menu for the entire game\n",
    "launch_game()"
   ]
  },
  {
   "cell_type": "markdown",
   "metadata": {},
   "source": [
    "# Testing Section\n",
    "\n",
    "Running this cell will run all test functions stored in my module. :)"
   ]
  },
  {
   "cell_type": "code",
   "execution_count": null,
   "metadata": {},
   "outputs": [],
   "source": [
    "test_all()"
   ]
  }
 ],
 "metadata": {
  "kernelspec": {
   "display_name": "Python 3",
   "language": "python",
   "name": "python3"
  },
  "language_info": {
   "codemirror_mode": {
    "name": "ipython",
    "version": 3
   },
   "file_extension": ".py",
   "mimetype": "text/x-python",
   "name": "python",
   "nbconvert_exporter": "python",
   "pygments_lexer": "ipython3",
   "version": "3.6.7"
  }
 },
 "nbformat": 4,
 "nbformat_minor": 2
}
